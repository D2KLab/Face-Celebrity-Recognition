{
 "cells": [
  {
   "cell_type": "code",
   "execution_count": 1,
   "metadata": {},
   "outputs": [
    {
     "data": {
      "text/html": [
       "<div>\n",
       "<style scoped>\n",
       "    .dataframe tbody tr th:only-of-type {\n",
       "        vertical-align: middle;\n",
       "    }\n",
       "\n",
       "    .dataframe tbody tr th {\n",
       "        vertical-align: top;\n",
       "    }\n",
       "\n",
       "    .dataframe thead th {\n",
       "        text-align: right;\n",
       "    }\n",
       "</style>\n",
       "<table border=\"1\" class=\"dataframe\">\n",
       "  <thead>\n",
       "    <tr style=\"text-align: right;\">\n",
       "      <th></th>\n",
       "      <th>media</th>\n",
       "      <th>locator</th>\n",
       "      <th>p</th>\n",
       "      <th>start</th>\n",
       "      <th>end</th>\n",
       "      <th>person</th>\n",
       "    </tr>\n",
       "  </thead>\n",
       "  <tbody>\n",
       "    <tr>\n",
       "      <th>0</th>\n",
       "      <td>http://data.memad.eu/fr2/6h30-le-journal/4a7df...</td>\n",
       "      <td>https://platform.limecraft.com/api/production/...</td>\n",
       "      <td>http://data.memad.eu/fr2/6h30-le-journal/61367...</td>\n",
       "      <td>264.0</td>\n",
       "      <td>280.0</td>\n",
       "      <td>Le Saint, Sophie</td>\n",
       "    </tr>\n",
       "    <tr>\n",
       "      <th>1</th>\n",
       "      <td>http://data.memad.eu/fr2/6h30-le-journal/4a7df...</td>\n",
       "      <td>https://platform.limecraft.com/api/production/...</td>\n",
       "      <td>http://data.memad.eu/fr2/6h30-le-journal/46f52...</td>\n",
       "      <td>232.0</td>\n",
       "      <td>250.0</td>\n",
       "      <td>Le Saint, Sophie</td>\n",
       "    </tr>\n",
       "    <tr>\n",
       "      <th>2</th>\n",
       "      <td>http://data.memad.eu/fr2/8h00-le-journal/8552c...</td>\n",
       "      <td>https://platform.limecraft.com/api/production/...</td>\n",
       "      <td>http://data.memad.eu/fr2/8h00-le-journal/5e8db...</td>\n",
       "      <td>5957.0</td>\n",
       "      <td>5958.0</td>\n",
       "      <td>Le Saint, Sophie</td>\n",
       "    </tr>\n",
       "    <tr>\n",
       "      <th>3</th>\n",
       "      <td>http://data.memad.eu/fr2/6h30-le-journal/0474b...</td>\n",
       "      <td>https://platform.limecraft.com/api/production/...</td>\n",
       "      <td>http://data.memad.eu/fr2/6h30-le-journal/8e9fb...</td>\n",
       "      <td>184.0</td>\n",
       "      <td>234.0</td>\n",
       "      <td>Le Saint, Sophie</td>\n",
       "    </tr>\n",
       "    <tr>\n",
       "      <th>4</th>\n",
       "      <td>http://data.memad.eu/fr2/7h30-le-journal/4feee...</td>\n",
       "      <td>https://platform.limecraft.com/api/production/...</td>\n",
       "      <td>http://data.memad.eu/fr2/7h30-le-journal/0ee59...</td>\n",
       "      <td>523.0</td>\n",
       "      <td>544.0</td>\n",
       "      <td>Le Saint, Sophie</td>\n",
       "    </tr>\n",
       "    <tr>\n",
       "      <th>...</th>\n",
       "      <td>...</td>\n",
       "      <td>...</td>\n",
       "      <td>...</td>\n",
       "      <td>...</td>\n",
       "      <td>...</td>\n",
       "      <td>...</td>\n",
       "    </tr>\n",
       "    <tr>\n",
       "      <th>95</th>\n",
       "      <td>http://data.memad.eu/fr2/8h00-le-journal/8552c...</td>\n",
       "      <td>https://platform.limecraft.com/api/production/...</td>\n",
       "      <td>http://data.memad.eu/fr2/8h00-le-journal/1be89...</td>\n",
       "      <td>5852.0</td>\n",
       "      <td>5911.0</td>\n",
       "      <td>0</td>\n",
       "    </tr>\n",
       "    <tr>\n",
       "      <th>96</th>\n",
       "      <td>http://data.memad.eu/fr2/8h00-le-journal/8552c...</td>\n",
       "      <td>https://platform.limecraft.com/api/production/...</td>\n",
       "      <td>http://data.memad.eu/fr2/8h00-le-journal/bf615...</td>\n",
       "      <td>5423.0</td>\n",
       "      <td>5441.0</td>\n",
       "      <td>0</td>\n",
       "    </tr>\n",
       "    <tr>\n",
       "      <th>97</th>\n",
       "      <td>http://data.memad.eu/fr2/13-heures/dd5bc1b8a44...</td>\n",
       "      <td>https://platform.limecraft.com/api/production/...</td>\n",
       "      <td>http://data.memad.eu/fr2/13-heures/7f11baac1c6...</td>\n",
       "      <td>858.0</td>\n",
       "      <td>937.0</td>\n",
       "      <td>0</td>\n",
       "    </tr>\n",
       "    <tr>\n",
       "      <th>98</th>\n",
       "      <td>http://data.memad.eu/fr2/13-heures/ba98967dff9...</td>\n",
       "      <td>https://platform.limecraft.com/api/production/...</td>\n",
       "      <td>http://data.memad.eu/fr2/13-heures/fd148bd86f3...</td>\n",
       "      <td>1060.0</td>\n",
       "      <td>1167.0</td>\n",
       "      <td>0</td>\n",
       "    </tr>\n",
       "    <tr>\n",
       "      <th>99</th>\n",
       "      <td>http://data.memad.eu/fr2/7h00-le-journal/e3249...</td>\n",
       "      <td>https://platform.limecraft.com/api/production/...</td>\n",
       "      <td>http://data.memad.eu/fr2/7h00-le-journal/17343...</td>\n",
       "      <td>304.0</td>\n",
       "      <td>311.0</td>\n",
       "      <td>0</td>\n",
       "    </tr>\n",
       "  </tbody>\n",
       "</table>\n",
       "<p>100 rows × 6 columns</p>\n",
       "</div>"
      ],
      "text/plain": [
       "                                                media  \\\n",
       "0   http://data.memad.eu/fr2/6h30-le-journal/4a7df...   \n",
       "1   http://data.memad.eu/fr2/6h30-le-journal/4a7df...   \n",
       "2   http://data.memad.eu/fr2/8h00-le-journal/8552c...   \n",
       "3   http://data.memad.eu/fr2/6h30-le-journal/0474b...   \n",
       "4   http://data.memad.eu/fr2/7h30-le-journal/4feee...   \n",
       "..                                                ...   \n",
       "95  http://data.memad.eu/fr2/8h00-le-journal/8552c...   \n",
       "96  http://data.memad.eu/fr2/8h00-le-journal/8552c...   \n",
       "97  http://data.memad.eu/fr2/13-heures/dd5bc1b8a44...   \n",
       "98  http://data.memad.eu/fr2/13-heures/ba98967dff9...   \n",
       "99  http://data.memad.eu/fr2/7h00-le-journal/e3249...   \n",
       "\n",
       "                                              locator  \\\n",
       "0   https://platform.limecraft.com/api/production/...   \n",
       "1   https://platform.limecraft.com/api/production/...   \n",
       "2   https://platform.limecraft.com/api/production/...   \n",
       "3   https://platform.limecraft.com/api/production/...   \n",
       "4   https://platform.limecraft.com/api/production/...   \n",
       "..                                                ...   \n",
       "95  https://platform.limecraft.com/api/production/...   \n",
       "96  https://platform.limecraft.com/api/production/...   \n",
       "97  https://platform.limecraft.com/api/production/...   \n",
       "98  https://platform.limecraft.com/api/production/...   \n",
       "99  https://platform.limecraft.com/api/production/...   \n",
       "\n",
       "                                                    p   start     end  \\\n",
       "0   http://data.memad.eu/fr2/6h30-le-journal/61367...   264.0   280.0   \n",
       "1   http://data.memad.eu/fr2/6h30-le-journal/46f52...   232.0   250.0   \n",
       "2   http://data.memad.eu/fr2/8h00-le-journal/5e8db...  5957.0  5958.0   \n",
       "3   http://data.memad.eu/fr2/6h30-le-journal/8e9fb...   184.0   234.0   \n",
       "4   http://data.memad.eu/fr2/7h30-le-journal/0ee59...   523.0   544.0   \n",
       "..                                                ...     ...     ...   \n",
       "95  http://data.memad.eu/fr2/8h00-le-journal/1be89...  5852.0  5911.0   \n",
       "96  http://data.memad.eu/fr2/8h00-le-journal/bf615...  5423.0  5441.0   \n",
       "97  http://data.memad.eu/fr2/13-heures/7f11baac1c6...   858.0   937.0   \n",
       "98  http://data.memad.eu/fr2/13-heures/fd148bd86f3...  1060.0  1167.0   \n",
       "99  http://data.memad.eu/fr2/7h00-le-journal/17343...   304.0   311.0   \n",
       "\n",
       "              person  \n",
       "0   Le Saint, Sophie  \n",
       "1   Le Saint, Sophie  \n",
       "2   Le Saint, Sophie  \n",
       "3   Le Saint, Sophie  \n",
       "4   Le Saint, Sophie  \n",
       "..               ...  \n",
       "95                 0  \n",
       "96                 0  \n",
       "97                 0  \n",
       "98                 0  \n",
       "99                 0  \n",
       "\n",
       "[100 rows x 6 columns]"
      ]
     },
     "execution_count": 1,
     "metadata": {},
     "output_type": "execute_result"
    }
   ],
   "source": [
    "import pandas as pd\n",
    "\n",
    "df = pd.read_csv('dataset_memad.csv')\n",
    "df"
   ]
  },
  {
   "cell_type": "code",
   "execution_count": 2,
   "metadata": {},
   "outputs": [],
   "source": [
    "import sys\n",
    "import os\n",
    "sys.path.insert(0, os.path.abspath('../'))\n",
    "os.chdir(\"../\")\n",
    "\n",
    "\n",
    "from src.tracker import Tracker\n",
    "from src.connectors import limecraft_connector as limecraft"
   ]
  },
  {
   "cell_type": "code",
   "execution_count": 10,
   "metadata": {},
   "outputs": [],
   "source": [
    "# from importlib import reload\n",
    "# import src\n",
    "# reload(src)\n",
    "# Tracker = src.tracker.Tracker"
   ]
  },
  {
   "cell_type": "code",
   "execution_count": 11,
   "metadata": {},
   "outputs": [
    {
     "name": "stdout",
     "output_type": "stream",
     "text": [
      "Loaded classifier file: data/classifier/antract.pkl\n"
     ]
    }
   ],
   "source": [
    "tr = Tracker(project='antract')"
   ]
  },
  {
   "cell_type": "code",
   "execution_count": 13,
   "metadata": {},
   "outputs": [
    {
     "data": {
      "application/vnd.jupyter.widget-view+json": {
       "model_id": "dc0663e8dc664bf6bf057c3eea910685",
       "version_major": 2,
       "version_minor": 0
      },
      "text/plain": [
       "HBox(children=(FloatProgress(value=0.0), HTML(value='')))"
      ]
     },
     "metadata": {},
     "output_type": "display_data"
    },
    {
     "name": "stdout",
     "output_type": "stream",
     "text": [
      "https://media.limecraft.com/files/production/2336/mo/808336/moi/10679080/downloadLink?access_token=eyJ1c2VySWQiOjc2MDYsImEiOjc2MDYsImIiOjE1OTYxMDAwNjMwMTYsImQiOiJDT25pbkVPTFVDNWorWHIxYWhpazg4MDVXN2NrSlNuTGRxRXE5M3VScExBPSIsImUiOmZhbHNlLCJ1IjoicGFzcWxpc2VuYSIsInMiOjAsImMiOmZhbHNlfQ\n",
      "frame 6600/7000\n",
      "\n"
     ]
    },
    {
     "ename": "IndexError",
     "evalue": "too many indices for array: array is 0-dimensional, but 1 were indexed",
     "output_type": "error",
     "traceback": [
      "\u001b[0;31m---------------------------------------------------------------------------\u001b[0m",
      "\u001b[0;31mIndexError\u001b[0m                                Traceback (most recent call last)",
      "\u001b[0;32m<ipython-input-13-adf5ddc7b811>\u001b[0m in \u001b[0;36m<module>\u001b[0;34m\u001b[0m\n\u001b[1;32m      8\u001b[0m     \u001b[0mv\u001b[0m \u001b[0;34m=\u001b[0m \u001b[0mlimecraft\u001b[0m\u001b[0;34m.\u001b[0m\u001b[0mlocator2video\u001b[0m\u001b[0;34m(\u001b[0m\u001b[0mlocator\u001b[0m\u001b[0;34m)\u001b[0m\u001b[0;34m\u001b[0m\u001b[0;34m\u001b[0m\u001b[0m\n\u001b[1;32m      9\u001b[0m     \u001b[0mprint\u001b[0m\u001b[0;34m(\u001b[0m\u001b[0mv\u001b[0m\u001b[0;34m)\u001b[0m\u001b[0;34m\u001b[0m\u001b[0;34m\u001b[0m\u001b[0m\n\u001b[0;32m---> 10\u001b[0;31m     \u001b[0mres\u001b[0m \u001b[0;34m=\u001b[0m \u001b[0mtr\u001b[0m\u001b[0;34m.\u001b[0m\u001b[0mrun\u001b[0m\u001b[0;34m(\u001b[0m\u001b[0mv\u001b[0m\u001b[0;34m,\u001b[0m \u001b[0mexport_frames\u001b[0m\u001b[0;34m=\u001b[0m\u001b[0;32mTrue\u001b[0m\u001b[0;34m,\u001b[0m \u001b[0mfragment\u001b[0m\u001b[0;34m=\u001b[0m\u001b[0;34mf'{start},{end}'\u001b[0m\u001b[0;34m,\u001b[0m \u001b[0mvideo_id\u001b[0m\u001b[0;34m=\u001b[0m\u001b[0mx\u001b[0m\u001b[0;34m[\u001b[0m\u001b[0;34m'media'\u001b[0m\u001b[0;34m]\u001b[0m\u001b[0;34m)\u001b[0m\u001b[0;34m\u001b[0m\u001b[0;34m\u001b[0m\u001b[0m\n\u001b[0m\u001b[1;32m     11\u001b[0m     \u001b[0mprint\u001b[0m\u001b[0;34m(\u001b[0m\u001b[0mres\u001b[0m\u001b[0;34m)\u001b[0m\u001b[0;34m\u001b[0m\u001b[0;34m\u001b[0m\u001b[0m\n\u001b[1;32m     12\u001b[0m     \u001b[0mall_results\u001b[0m\u001b[0;34m.\u001b[0m\u001b[0mappend\u001b[0m\u001b[0;34m(\u001b[0m\u001b[0mres\u001b[0m\u001b[0;34m)\u001b[0m\u001b[0;34m\u001b[0m\u001b[0;34m\u001b[0m\u001b[0m\n",
      "\u001b[0;32m~/git/Face-Celebrity-Recognition/src/tracker.py\u001b[0m in \u001b[0;36mrun\u001b[0;34m(self, video_path, video_speedup, export_frames, fragment, video_id)\u001b[0m\n\u001b[1;32m    127\u001b[0m                 \u001b[0;31m# use 5 face landmarks to judge the face is front or side\u001b[0m\u001b[0;34m\u001b[0m\u001b[0;34m\u001b[0m\u001b[0;34m\u001b[0m\u001b[0m\n\u001b[1;32m    128\u001b[0m                 \u001b[0;31m# TODO use this value\u001b[0m\u001b[0;34m\u001b[0m\u001b[0;34m\u001b[0m\u001b[0;34m\u001b[0m\u001b[0m\n\u001b[0;32m--> 129\u001b[0;31m                 \u001b[0mdist_rate\u001b[0m\u001b[0;34m,\u001b[0m \u001b[0mhigh_ratio_variance\u001b[0m\u001b[0;34m,\u001b[0m \u001b[0mwidth_rate\u001b[0m \u001b[0;34m=\u001b[0m \u001b[0mjudge_side_face\u001b[0m\u001b[0;34m(\u001b[0m\u001b[0mld\u001b[0m\u001b[0;34m)\u001b[0m\u001b[0;34m\u001b[0m\u001b[0;34m\u001b[0m\u001b[0m\n\u001b[0m\u001b[1;32m    130\u001b[0m                 \u001b[0;31m# dist_rate 0 => front face ; 1 => side face\u001b[0m\u001b[0;34m\u001b[0m\u001b[0;34m\u001b[0m\u001b[0;34m\u001b[0m\u001b[0m\n\u001b[1;32m    131\u001b[0m \u001b[0;34m\u001b[0m\u001b[0m\n",
      "\u001b[0;32m~/git/Face-Celebrity-Recognition/src/utils/face_utils.py\u001b[0m in \u001b[0;36mjudge_side_face\u001b[0;34m(facial_landmarks)\u001b[0m\n\u001b[1;32m      5\u001b[0m     \u001b[0mprint\u001b[0m\u001b[0;34m(\u001b[0m\u001b[0mfacial_landmarks\u001b[0m\u001b[0;34m)\u001b[0m\u001b[0;34m\u001b[0m\u001b[0;34m\u001b[0m\u001b[0m\n\u001b[1;32m      6\u001b[0m     \u001b[0mfl\u001b[0m \u001b[0;34m=\u001b[0m \u001b[0mnp\u001b[0m\u001b[0;34m.\u001b[0m\u001b[0marray\u001b[0m\u001b[0;34m(\u001b[0m\u001b[0mfacial_landmarks\u001b[0m\u001b[0;34m.\u001b[0m\u001b[0mvalues\u001b[0m\u001b[0;34m(\u001b[0m\u001b[0;34m)\u001b[0m\u001b[0;34m)\u001b[0m\u001b[0;34m\u001b[0m\u001b[0;34m\u001b[0m\u001b[0m\n\u001b[0;32m----> 7\u001b[0;31m     \u001b[0mprint\u001b[0m\u001b[0;34m(\u001b[0m\u001b[0mfl\u001b[0m\u001b[0;34m)\u001b[0m\u001b[0;34m\u001b[0m\u001b[0;34m\u001b[0m\u001b[0m\n\u001b[0m\u001b[1;32m      8\u001b[0m \u001b[0;34m\u001b[0m\u001b[0m\n\u001b[1;32m      9\u001b[0m     \u001b[0mwide_dist\u001b[0m \u001b[0;34m=\u001b[0m \u001b[0mnp\u001b[0m\u001b[0;34m.\u001b[0m\u001b[0mlinalg\u001b[0m\u001b[0;34m.\u001b[0m\u001b[0mnorm\u001b[0m\u001b[0;34m(\u001b[0m\u001b[0mfl\u001b[0m\u001b[0;34m[\u001b[0m\u001b[0;36m0\u001b[0m\u001b[0;34m]\u001b[0m \u001b[0;34m-\u001b[0m \u001b[0mfl\u001b[0m\u001b[0;34m[\u001b[0m\u001b[0;36m1\u001b[0m\u001b[0;34m]\u001b[0m\u001b[0;34m)\u001b[0m\u001b[0;34m\u001b[0m\u001b[0;34m\u001b[0m\u001b[0m\n",
      "\u001b[0;31mIndexError\u001b[0m: too many indices for array: array is 0-dimensional, but 1 were indexed"
     ]
    }
   ],
   "source": [
    "from tqdm.notebook import tqdm\n",
    "\n",
    "all_results = []\n",
    "for i, x in tqdm(df.iterrows(), total=len(df)):\n",
    "    start = int(x['start'])\n",
    "    end = int(x['end'])\n",
    "    locator = x['locator']\n",
    "    v = limecraft.locator2video(locator)\n",
    "    print(v)\n",
    "    res = tr.run(v, export_frames=True, fragment=f'{start},{end}', video_id=x['media'])\n",
    "    print(res)\n",
    "    all_results.append(res)"
   ]
  },
  {
   "cell_type": "code",
   "execution_count": null,
   "metadata": {},
   "outputs": [],
   "source": [
    "import json\n",
    "with open('results_memad_gt.json', 'w') as f:\n",
    "    json.dump(all_results, f)"
   ]
  },
  {
   "cell_type": "code",
   "execution_count": null,
   "metadata": {},
   "outputs": [],
   "source": [
    "from src import clusterize\n",
    "\n",
    "clusters  = []\n",
    "for r in all_results:\n",
    "    c = clusterize.main(clusterize.from_dict(cr), confidence_threshold=0.0, merge_cluster=True, min_length=1):\n",
    "    clusters.append(c)\n",
    "    \n",
    "with open('results_memad_gt_clusters.json', 'w') as f:\n",
    "    json.dump(clusters, f)"
   ]
  }
 ],
 "metadata": {
  "kernelspec": {
   "display_name": "Python 3",
   "language": "python",
   "name": "python3"
  },
  "language_info": {
   "codemirror_mode": {
    "name": "ipython",
    "version": 3
   },
   "file_extension": ".py",
   "mimetype": "text/x-python",
   "name": "python",
   "nbconvert_exporter": "python",
   "pygments_lexer": "ipython3",
   "version": "3.7.7"
  }
 },
 "nbformat": 4,
 "nbformat_minor": 4
}
