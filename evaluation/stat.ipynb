{
 "cells": [
  {
   "cell_type": "code",
   "execution_count": 2,
   "metadata": {
    "pycharm": {
     "is_executing": false
    }
   },
   "outputs": [],
   "source": [
    "import pandas as pd\n",
    "import copy\n",
    "import re\n",
    "import os\n",
    "from SPARQLWrapper import SPARQLWrapper, JSON\n",
    "import sys\n",
    "\n",
    "sys.path.append(os.path.abspath('../src'))\n",
    "from src import database as db\n",
    "from src import clusterize"
   ]
  },
  {
   "cell_type": "code",
   "execution_count": 3,
   "metadata": {
    "pycharm": {
     "is_executing": false,
     "name": "#%%\n"
    }
   },
   "outputs": [],
   "source": [
    "ENDPOINT = \"https://okapi.ina.fr/antract/api/saphir/sparql_search\"\n",
    "sparql = SPARQLWrapper(ENDPOINT)\n",
    "\n",
    "db.init(conf='../config/config.yaml')"
   ]
  },
  {
   "cell_type": "code",
   "execution_count": 4,
   "metadata": {
    "pycharm": {
     "is_executing": false,
     "name": "#%%\n"
    }
   },
   "outputs": [],
   "source": [
    "with open('segment_person.rq', 'r') as f:\n",
    "  query = f.read()"
   ]
  },
  {
   "cell_type": "code",
   "execution_count": 5,
   "metadata": {
    "pycharm": {
     "is_executing": false,
     "name": "#%%\n"
    }
   },
   "outputs": [],
   "source": [
    "sparql.setQuery(query)\n",
    "sparql.setReturnFormat(JSON)\n",
    "results = sparql.query().convert()[\"results\"][\"bindings\"]"
   ]
  },
  {
   "cell_type": "code",
   "execution_count": 6,
   "metadata": {
    "pycharm": {
     "is_executing": false,
     "name": "#%%\n"
    }
   },
   "outputs": [],
   "source": [
    "def sparql_to_pandas(results):\n",
    "    res = copy.deepcopy(results)\n",
    "    for r in res:\n",
    "        for p in r:\n",
    "            value = r[p]['value']\n",
    "            if p in ['start', 'end']:\n",
    "                value = re.sub(r\"T(\\d{2}:\\d{2}:\\d{2}).+\", \"\\g<1>\", value)\n",
    "            if p == 'prop':\n",
    "                value = re.split(r\"[/#]\", value)[-1]\n",
    "            r[p] = value\n",
    "    return pd.DataFrame.from_dict(res)"
   ]
  },
  {
   "cell_type": "code",
   "execution_count": 7,
   "metadata": {
    "pycharm": {
     "is_executing": false,
     "name": "#%%\n"
    }
   },
   "outputs": [
    {
     "data": {
      "text/html": [
       "<div>\n",
       "<style scoped>\n",
       "    .dataframe tbody tr th:only-of-type {\n",
       "        vertical-align: middle;\n",
       "    }\n",
       "\n",
       "    .dataframe tbody tr th {\n",
       "        vertical-align: top;\n",
       "    }\n",
       "\n",
       "    .dataframe thead th {\n",
       "        text-align: right;\n",
       "    }\n",
       "</style>\n",
       "<table border=\"1\" class=\"dataframe\">\n",
       "  <thead>\n",
       "    <tr style=\"text-align: right;\">\n",
       "      <th></th>\n",
       "      <th>notice</th>\n",
       "      <th>prop</th>\n",
       "      <th>title</th>\n",
       "      <th>start</th>\n",
       "      <th>end</th>\n",
       "      <th>analysis</th>\n",
       "      <th>media</th>\n",
       "      <th>url</th>\n",
       "    </tr>\n",
       "  </thead>\n",
       "  <tbody>\n",
       "    <tr>\n",
       "      <th>0</th>\n",
       "      <td>http://www.ina.fr/emission/AFE85004910</td>\n",
       "      <td>aPourParticipant</td>\n",
       "      <td>PREMIERE REUNION DE L'EQUIPE MINISTERIELLE D'E...</td>\n",
       "      <td>00:00:13</td>\n",
       "      <td>00:00:49</td>\n",
       "      <td>http://www.ina.fr/analysis/AFE86004832</td>\n",
       "      <td>http://www.ina.fr/media/AFE86004832</td>\n",
       "      <td>/Media/AF/AFE86004832.mp4</td>\n",
       "    </tr>\n",
       "    <tr>\n",
       "      <th>1</th>\n",
       "      <td>http://www.ina.fr/emission/AFE85004918</td>\n",
       "      <td>aPourParticipant</td>\n",
       "      <td>Eisenhower Président</td>\n",
       "      <td>00:06:20</td>\n",
       "      <td>00:08:16</td>\n",
       "      <td>http://www.ina.fr/analysis/AFE86004832</td>\n",
       "      <td>http://www.ina.fr/media/AFE86004832</td>\n",
       "      <td>/Media/AF/AFE86004832.mp4</td>\n",
       "    </tr>\n",
       "    <tr>\n",
       "      <th>2</th>\n",
       "      <td>http://www.ina.fr/emission/AFE85005763</td>\n",
       "      <td>aPourParticipant</td>\n",
       "      <td>Voyage de Geneviève de Galard aux Etats Unis</td>\n",
       "      <td>00:02:53</td>\n",
       "      <td>00:03:30</td>\n",
       "      <td>http://www.ina.fr/analysis/AFE86003422</td>\n",
       "      <td>http://www.ina.fr/media/AFE86003422</td>\n",
       "      <td>/Media/AF/AFE86003422.mp4</td>\n",
       "    </tr>\n",
       "    <tr>\n",
       "      <th>3</th>\n",
       "      <td>http://www.ina.fr/emission/AFE85007869</td>\n",
       "      <td>aPourParticipant</td>\n",
       "      <td>L'ODYSSEE SUD AMERICAINE DU VICE PRESIDENT NIXON</td>\n",
       "      <td>00:02:07</td>\n",
       "      <td>00:03:11</td>\n",
       "      <td>http://www.ina.fr/analysis/AFE86003620</td>\n",
       "      <td>http://www.ina.fr/media/AFE86003620</td>\n",
       "      <td>/Media/AF/AFE86003620.mp4</td>\n",
       "    </tr>\n",
       "    <tr>\n",
       "      <th>4</th>\n",
       "      <td>http://www.ina.fr/emission/AFE85008771</td>\n",
       "      <td>aPourParticipant</td>\n",
       "      <td>Nixon candidat du Parti Républicain</td>\n",
       "      <td>00:02:03</td>\n",
       "      <td>00:02:35</td>\n",
       "      <td>http://www.ina.fr/analysis/AFE86003735</td>\n",
       "      <td>http://www.ina.fr/media/AFE86003735</td>\n",
       "      <td>/Media/AF/AFE86003735.mp4</td>\n",
       "    </tr>\n",
       "  </tbody>\n",
       "</table>\n",
       "</div>"
      ],
      "text/plain": [
       "                                   notice              prop  \\\n",
       "0  http://www.ina.fr/emission/AFE85004910  aPourParticipant   \n",
       "1  http://www.ina.fr/emission/AFE85004918  aPourParticipant   \n",
       "2  http://www.ina.fr/emission/AFE85005763  aPourParticipant   \n",
       "3  http://www.ina.fr/emission/AFE85007869  aPourParticipant   \n",
       "4  http://www.ina.fr/emission/AFE85008771  aPourParticipant   \n",
       "\n",
       "                                               title     start       end  \\\n",
       "0  PREMIERE REUNION DE L'EQUIPE MINISTERIELLE D'E...  00:00:13  00:00:49   \n",
       "1                               Eisenhower Président  00:06:20  00:08:16   \n",
       "2       Voyage de Geneviève de Galard aux Etats Unis  00:02:53  00:03:30   \n",
       "3   L'ODYSSEE SUD AMERICAINE DU VICE PRESIDENT NIXON  00:02:07  00:03:11   \n",
       "4                Nixon candidat du Parti Républicain  00:02:03  00:02:35   \n",
       "\n",
       "                                 analysis  \\\n",
       "0  http://www.ina.fr/analysis/AFE86004832   \n",
       "1  http://www.ina.fr/analysis/AFE86004832   \n",
       "2  http://www.ina.fr/analysis/AFE86003422   \n",
       "3  http://www.ina.fr/analysis/AFE86003620   \n",
       "4  http://www.ina.fr/analysis/AFE86003735   \n",
       "\n",
       "                                 media                        url  \n",
       "0  http://www.ina.fr/media/AFE86004832  /Media/AF/AFE86004832.mp4  \n",
       "1  http://www.ina.fr/media/AFE86004832  /Media/AF/AFE86004832.mp4  \n",
       "2  http://www.ina.fr/media/AFE86003422  /Media/AF/AFE86003422.mp4  \n",
       "3  http://www.ina.fr/media/AFE86003620  /Media/AF/AFE86003620.mp4  \n",
       "4  http://www.ina.fr/media/AFE86003735  /Media/AF/AFE86003735.mp4  "
      ]
     },
     "execution_count": 7,
     "metadata": {},
     "output_type": "execute_result"
    }
   ],
   "source": [
    "data = sparql_to_pandas(results)\n",
    "data.head()"
   ]
  },
  {
   "cell_type": "code",
   "execution_count": 8,
   "metadata": {},
   "outputs": [],
   "source": [
    "def to_sec(value):\n",
    "    hh,mm,ss = value.split(':')\n",
    "    return 3600 * int(hh) + 60 * int(mm) + int(ss)"
   ]
  },
  {
   "cell_type": "code",
   "execution_count": 9,
   "metadata": {
    "pycharm": {
     "name": "#%%\n"
    }
   },
   "outputs": [],
   "source": [
    "def check(segment):\n",
    "    start = to_sec(segment['start'])\n",
    "    end = to_sec(segment['end'])\n",
    "    facerec = db.get_all_about(segment['media'], 'antract')\n",
    "    if not facerec or 'tracks' not in facerec or len(facerec['tracks']) < 1:\n",
    "        return None\n",
    "    \n",
    "    tracks = facerec['tracks']\n",
    "    tracks = clusterize.main(clusterize.from_dict(tracks), confidence_threshold=0.5, merge_cluster=True)\n",
    "\n",
    "    hits = 0\n",
    "    duration = 0\n",
    "    for t in tracks:\n",
    "        t_start = t['start_npt']\n",
    "        t_end = t['end_npt']\n",
    "        if t['name'] == 'Dwight Eisenhower' and t_start >= start and t_end <= end:\n",
    "            hits += 1\n",
    "            duration += t_end - t_start\n",
    "            \n",
    "    return hits, duration"
   ]
  },
  {
   "cell_type": "code",
   "execution_count": 14,
   "metadata": {},
   "outputs": [
    {
     "name": "stdout",
     "output_type": "stream",
     "text": [
      "Not analysed: 91\n",
      "Missed: 0\n",
      "Found: 3\n",
      "Avg hits: 1.33\n",
      "Avg secs: 0.67\n",
      "##############\n",
      "ina:imageContient\n",
      "Missed: 0\n",
      "Found: 0\n",
      "##############\n",
      "ina:aPourParticipant\n",
      "Missed: 0\n",
      "Found: 3\n",
      "Avg hits: 1.33\n",
      "Avg secs: 4.00\n"
     ]
    }
   ],
   "source": [
    "not_analysed = 0\n",
    "found = 0\n",
    "hits = 0\n",
    "secs = 0\n",
    "missed = 0\n",
    "\n",
    "img_cont_found = 0\n",
    "img_cont_hits = 0\n",
    "img_cont_secs = 0\n",
    "img_cont_missed = 0\n",
    "partic_found = 0\n",
    "partic_hits = 0\n",
    "partic_secs = 0\n",
    "partic_missed = 0\n",
    "\n",
    "\n",
    "for index, segment in data.iterrows():\n",
    "    res = check(segment)\n",
    "    img_cont = segment['prop'] == 'imageContient'\n",
    "\n",
    "\n",
    "    if res is None:\n",
    "        not_analysed += 1\n",
    "        continue\n",
    "    \n",
    "    count, secs = res\n",
    "    \n",
    "    if count > 0:\n",
    "        found += 1\n",
    "        hits += count\n",
    "        secs += secs\n",
    "        if img_cont:\n",
    "            img_cont_found += 1\n",
    "            img_cont_hits += count\n",
    "            img_cont_secs += secs\n",
    "        else:\n",
    "            partic_found += 1\n",
    "            partic_hits += count\n",
    "            partic_secs += secs\n",
    "            \n",
    "    else:\n",
    "        missed += 1\n",
    "        if img_cont:\n",
    "            img_cont_missed += 1\n",
    "        else:\n",
    "            partic_missed += 1\n",
    "\n",
    "\n",
    "print('Not analysed: %d' % not_analysed)\n",
    "print('Missed: %d' % missed)\n",
    "print('Found: %d' % found)\n",
    "if found >0:\n",
    "    print('Avg hits: %.2f' % (hits / found))\n",
    "    print('Avg secs: %.2f' % (secs / found))\n",
    "\n",
    "print('##############')\n",
    "print('ina:imageContient')\n",
    "print('Missed: %d' % img_cont_missed)\n",
    "print('Found: %d' % img_cont_found)\n",
    "if img_cont_found >0 :\n",
    "    print('Avg hits: %.2f' % (img_cont_hits / img_cont_found))\n",
    "    print('Avg secs: %.2f' % (img_cont_secs / img_cont_found))\n",
    "\n",
    "print('##############')\n",
    "print('ina:aPourParticipant')\n",
    "print('Missed: %d' % partic_missed)\n",
    "print('Found: %d' % partic_found)\n",
    "if partic_found >0 :\n",
    "    print('Avg hits: %.2f' % (partic_hits / partic_found))\n",
    "    print('Avg secs: %.2f' % (partic_secs / partic_found))\n"
   ]
  },
  {
   "cell_type": "code",
   "execution_count": null,
   "metadata": {},
   "outputs": [],
   "source": []
  },
  {
   "cell_type": "code",
   "execution_count": null,
   "metadata": {},
   "outputs": [],
   "source": []
  }
 ],
 "metadata": {
  "kernelspec": {
   "display_name": "Python 3",
   "language": "python",
   "name": "python3"
  },
  "language_info": {
   "codemirror_mode": {
    "name": "ipython",
    "version": 3
   },
   "file_extension": ".py",
   "mimetype": "text/x-python",
   "name": "python",
   "nbconvert_exporter": "python",
   "pygments_lexer": "ipython3",
   "version": "3.7.7"
  },
  "pycharm": {
   "stem_cell": {
    "cell_type": "raw",
    "metadata": {
     "collapsed": false
    },
    "source": []
   }
  }
 },
 "nbformat": 4,
 "nbformat_minor": 1
}
